{
 "cells": [
  {
   "cell_type": "markdown",
   "id": "405c98b5",
   "metadata": {},
   "source": [
    "# Videos\n",
    "- https://ilias.uni-freiburg.de/data/unifreiburg/mobs/mm_3479730/01._Introduction_-_part_1.MP4?il_wac_token=5df78ab7e9a48814bc8cb67b74d692d187b76ff0&il_wac_ttl=3&il_wac_ts=1666020049\n",
    "- https://ilias.uni-freiburg.de/data/unifreiburg/mobs/mm_3479732/01._Introduction_-_part_2.mp4?il_wac_token=688d5927a8108c0d69c1c0daaf946d7b29fc4f2f&il_wac_ttl=3&il_wac_ts=1666020133\n",
    "- https://ilias.uni-freiburg.de/data/unifreiburg/mobs/mm_3479734/01._Introduction_-_part_3.MP4?il_wac_token=4f0f01f432bcf51fb5496128d4072d5386a553a0&il_wac_ttl=3&il_wac_ts=1666020161\n",
    "- https://ilias.uni-freiburg.de/data/unifreiburg/mobs/mm_3479834/part1.mp4?il_wac_token=13681acaefbff14627bc3185beb9b3acaef9b260&il_wac_ttl=3&il_wac_ts=1666020205\n",
    "- https://ilias.uni-freiburg.de/data/unifreiburg/mobs/mm_3479830/part2.mp4?il_wac_token=e2774d8bead2903614e21eab3f4d86a10b32f768&il_wac_ttl=3&il_wac_ts=1666020203\n",
    "- https://ilias.uni-freiburg.de/data/unifreiburg/mobs/mm_3479836/part3.mp4?il_wac_token=0f3fd371f873004b54ec9b8c00f3cb207b31f248&il_wac_ttl=3&il_wac_ts=1666020204"
   ]
  },
  {
   "cell_type": "markdown",
   "id": "3f046134",
   "metadata": {},
   "source": [
    "# Sonstiges\n",
    "- Vorbereitung für Abgaben: http://www2.informatik.uni-freiburg.de/~grabocka/ml2022/#11\n",
    "- Ausfüllen: https://docs.google.com/forms/d/e/1FAIpQLSfvOscFXwP7EbOfeNrz_0lbUz7zfX8LPFmOkS1GjRttPoAChw/viewform"
   ]
  },
  {
   "cell_type": "code",
   "execution_count": null,
   "id": "35da76d5",
   "metadata": {},
   "outputs": [],
   "source": []
  }
 ],
 "metadata": {
  "kernelspec": {
   "display_name": "Python 3 (ipykernel)",
   "language": "python",
   "name": "python3"
  },
  "language_info": {
   "codemirror_mode": {
    "name": "ipython",
    "version": 3
   },
   "file_extension": ".py",
   "mimetype": "text/x-python",
   "name": "python",
   "nbconvert_exporter": "python",
   "pygments_lexer": "ipython3",
   "version": "3.10.7"
  }
 },
 "nbformat": 4,
 "nbformat_minor": 5
}
